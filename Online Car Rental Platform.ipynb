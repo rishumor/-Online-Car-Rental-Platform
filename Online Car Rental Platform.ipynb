{
 "cells": [
  {
   "cell_type": "code",
   "execution_count": 1,
   "id": "e47e8434-4c90-4b09-a25f-06b726ddb98e",
   "metadata": {},
   "outputs": [
    {
     "name": "stdout",
     "output_type": "stream",
     "text": [
      "\n",
      "Car Rental System\n",
      "1. View available cars\n",
      "2. Rent a car\n",
      "3. Return a car\n",
      "4. Exit\n"
     ]
    },
    {
     "name": "stdin",
     "output_type": "stream",
     "text": [
      "Enter choice:  1\n"
     ]
    },
    {
     "name": "stdout",
     "output_type": "stream",
     "text": [
      "Available cars: 10\n",
      "\n",
      "Car Rental System\n",
      "1. View available cars\n",
      "2. Rent a car\n",
      "3. Return a car\n",
      "4. Exit\n"
     ]
    },
    {
     "name": "stdin",
     "output_type": "stream",
     "text": [
      "Enter choice:  2\n",
      "Enter number of cars to rent:  4\n",
      "Choose rental type (hourly/daily/weekly):  1\n"
     ]
    },
    {
     "name": "stdout",
     "output_type": "stream",
     "text": [
      "4 car(s) rented on a 1 basis at 2025-03-05 12:44:04.622347\n",
      "\n",
      "Car Rental System\n",
      "1. View available cars\n",
      "2. Rent a car\n",
      "3. Return a car\n",
      "4. Exit\n"
     ]
    },
    {
     "name": "stdin",
     "output_type": "stream",
     "text": [
      "Enter choice:  4\n"
     ]
    },
    {
     "name": "stdout",
     "output_type": "stream",
     "text": [
      "Thank you for using the Car Rental Service!\n"
     ]
    }
   ],
   "source": [
    "import datetime\n",
    "\n",
    "class CarRental:\n",
    "    def __init__(self, stock=10):\n",
    "        self.stock = stock\n",
    "\n",
    "    def display_cars(self):\n",
    "        print(f\"Available cars: {self.stock}\")\n",
    "\n",
    "    def rent_car(self, num_cars, rental_type):\n",
    "        if num_cars <= 0 or num_cars > self.stock:\n",
    "            print(\"Invalid number of cars requested.\")\n",
    "            return None\n",
    "        \n",
    "        self.stock -= num_cars\n",
    "        rental_time = datetime.datetime.now()\n",
    "        print(f\"{num_cars} car(s) rented on a {rental_type} basis at {rental_time}\")\n",
    "        return rental_time, rental_type\n",
    "\n",
    "    def return_car(self, rental_time, rental_type, num_cars):\n",
    "        if not rental_time:\n",
    "            print(\"Invalid return attempt.\")\n",
    "            return\n",
    "        \n",
    "        self.stock += num_cars\n",
    "        now = datetime.datetime.now()\n",
    "        rental_period = (now - rental_time).total_seconds() / 3600  # Convert to hours\n",
    "        \n",
    "        rates = {\"hourly\": 5, \"daily\": 20, \"weekly\": 60}\n",
    "        if rental_type in rates:\n",
    "            bill = round(rental_period / (1 if rental_type == \"hourly\" else (24 if rental_type == \"daily\" else 168))) * rates[rental_type] * num_cars\n",
    "            print(f\"Total bill: INR {bill}\")\n",
    "        else:\n",
    "            print(\"Invalid rental type.\")\n",
    "\n",
    "class Customer:\n",
    "    def __init__(self):\n",
    "        self.rental_time = None\n",
    "        self.rental_type = None\n",
    "        self.num_cars = 0\n",
    "\n",
    "    def request_car(self):\n",
    "        num_cars = int(input(\"Enter number of cars to rent: \"))\n",
    "        rental_type = input(\"Choose rental type (hourly/daily/weekly): \").lower()\n",
    "        return num_cars, rental_type\n",
    "\n",
    "    def return_car(self):\n",
    "        return self.rental_time, self.rental_type, self.num_cars\n",
    "\n",
    "def main():\n",
    "    rental_service = CarRental()\n",
    "    customer = Customer()\n",
    "    \n",
    "    while True:\n",
    "        print(\"\\nCar Rental System\")\n",
    "        print(\"1. View available cars\")\n",
    "        print(\"2. Rent a car\")\n",
    "        print(\"3. Return a car\")\n",
    "        print(\"4. Exit\")\n",
    "        \n",
    "        choice = int(input(\"Enter choice: \"))\n",
    "        \n",
    "        if choice == 1:\n",
    "            rental_service.display_cars()\n",
    "        elif choice == 2:\n",
    "            num_cars, rental_type = customer.request_car()\n",
    "            rental_time = rental_service.rent_car(num_cars, rental_type)\n",
    "            if rental_time:\n",
    "                customer.rental_time, customer.rental_type, customer.num_cars = rental_time[0], rental_time[1], num_cars\n",
    "        elif choice == 3:\n",
    "            rental_service.return_car(customer.rental_time, customer.rental_type, customer.num_cars)\n",
    "            customer.rental_time, customer.rental_type, customer.num_cars = None, None, 0\n",
    "        elif choice == 4:\n",
    "            print(\"Thank you for using the Car Rental Service!\")\n",
    "            break\n",
    "        else:\n",
    "            print(\"Invalid choice, please try again.\")\n",
    "\n",
    "if __name__ == \"__main__\":\n",
    "    main()"
   ]
  },
  {
   "cell_type": "code",
   "execution_count": null,
   "id": "2ab8361b-93c3-4604-9e03-57aea68c1637",
   "metadata": {},
   "outputs": [],
   "source": []
  }
 ],
 "metadata": {
  "kernelspec": {
   "display_name": "Python 3 (ipykernel)",
   "language": "python",
   "name": "python3"
  },
  "language_info": {
   "codemirror_mode": {
    "name": "ipython",
    "version": 3
   },
   "file_extension": ".py",
   "mimetype": "text/x-python",
   "name": "python",
   "nbconvert_exporter": "python",
   "pygments_lexer": "ipython3",
   "version": "3.13.2"
  }
 },
 "nbformat": 4,
 "nbformat_minor": 5
}
